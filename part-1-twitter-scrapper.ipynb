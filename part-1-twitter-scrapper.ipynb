{
 "cells": [
  {
   "cell_type": "markdown",
   "id": "89365faa-942c-4c45-89e3-82e645c19c36",
   "metadata": {},
   "source": [
    "## Toxic Comment Classification THE SCRAPPING"
   ]
  },
  {
   "cell_type": "markdown",
   "id": "6f1e302f-2d9b-45ca-88c1-a9393105f908",
   "metadata": {},
   "source": [
    "## PART I"
   ]
  },
  {
   "cell_type": "code",
   "execution_count": 14,
   "id": "80ea1ab3-470b-47f6-b441-4c9c4876c84c",
   "metadata": {},
   "outputs": [],
   "source": [
    "get_username = 'USERNAME'\n",
    "get_pass = 'PASSWORD'\n",
    "get_topic = 'ENTER SEARCH TOPIC'"
   ]
  },
  {
   "cell_type": "code",
   "execution_count": 9,
   "id": "f53d2103-822f-4009-8e2b-43fcfc9ffbcc",
   "metadata": {
    "tags": []
   },
   "outputs": [],
   "source": [
    "!pip install selenium"
   ]
  },
  {
   "cell_type": "code",
   "execution_count": 1,
   "id": "416d4e0b-18a5-41ba-82bf-e37a74f23beb",
   "metadata": {},
   "outputs": [],
   "source": [
    "from selenium.webdriver.common.keys import Keys\n",
    "from selenium.common.exceptions import NoSuchElementException\n",
    "from selenium.webdriver import Chrome\n",
    "import re\n",
    "from getpass import getpass\n",
    "from time import sleep\n",
    "import csv"
   ]
  },
  {
   "cell_type": "code",
   "execution_count": 3,
   "id": "e5c4dd90-5513-4a2e-9b0d-fd366c9f3959",
   "metadata": {},
   "outputs": [],
   "source": [
    "driver = Chrome()"
   ]
  },
  {
   "cell_type": "code",
   "execution_count": 4,
   "id": "14e89dd5-9be2-47f7-9c63-5a0eeebb3dd1",
   "metadata": {},
   "outputs": [],
   "source": [
    "driver.get('https://www.twitter.com/login')\n",
    "driver.maximize_window()\n",
    "#change sleep values according to internet speed\n",
    "sleep(5)"
   ]
  },
  {
   "cell_type": "code",
   "execution_count": 9,
   "id": "799b1050-bee8-4fa9-af61-40feac78a2c5",
   "metadata": {},
   "outputs": [],
   "source": [
    "username = driver.find_element(\"xpath\",'//input[@name=\"text\"]')\n",
    "username.send_keys(get_username)\n",
    "username.send_keys(Keys.RETURN)\n",
    "sleep(3)\n",
    "password=driver.find_element(\"xpath\",'//input[@name=\"password\"]')\n",
    "password.send_keys(get_pass)\n",
    "password.send_keys(Keys.RETURN)\n",
    "sleep(10)"
   ]
  },
  {
   "cell_type": "code",
   "execution_count": 11,
   "id": "f57a9360-4f41-40ac-ba95-75f9aae8311b",
   "metadata": {},
   "outputs": [],
   "source": [
    "#check for any popup by twitter\n",
    "search_input = driver.find_element(\"xpath\",'//input[@aria-label=\"Search query\"]')\n",
    "search_input.send_keys(get_topic)\n",
    "search_input.send_keys(Keys.ENTER)\n",
    "sleep(1)\n",
    "driver.find_element(\"link text\",'Latest').click()"
   ]
  },
  {
   "cell_type": "code",
   "execution_count": 12,
   "id": "435baff1-1f47-4fe1-b641-eaa8c8a55eec",
   "metadata": {
    "tags": []
   },
   "outputs": [],
   "source": [
    "def get_tweet_data(card):\n",
    "    \"\"\"Extract data from tweet card\"\"\"\n",
    "\n",
    "    try:\n",
    "        handle = card.find_element(\"xpath\",'.//span[contains(text(), \"@\")]').text\n",
    "    except NoSuchElementException:\n",
    "        return\n",
    "    \n",
    "    try:\n",
    "        postdate = card.find_element(\"xpath\",'.//time').get_attribute('datetime')\n",
    "    except NoSuchElementException:\n",
    "        return\n",
    "    \n",
    "    comment = card.find_element(\"xpath\",'.//div[2]/div[2]/div[1]').text\n",
    "    responding = card.find_element(\"xpath\",'.//div[2]/div[2]/div[2]').text\n",
    "    text = comment + responding\n",
    "\n",
    "    tweet = (handle, text)\n",
    "    \n",
    "    return tweet"
   ]
  },
  {
   "cell_type": "code",
   "execution_count": 13,
   "id": "6331ed78-c855-4fe8-9b40-14656ebecdb1",
   "metadata": {},
   "outputs": [
    {
     "ename": "KeyboardInterrupt",
     "evalue": "",
     "output_type": "error",
     "traceback": [
      "\u001b[1;31m---------------------------------------------------------------------------\u001b[0m",
      "\u001b[1;31mKeyboardInterrupt\u001b[0m                         Traceback (most recent call last)",
      "\u001b[1;32m~\\AppData\\Local\\Temp\\ipykernel_12644\\2301359447.py\u001b[0m in \u001b[0;36m<module>\u001b[1;34m\u001b[0m\n\u001b[0;32m     30\u001b[0m         \u001b[1;31m# check scroll position\u001b[0m\u001b[1;33m\u001b[0m\u001b[1;33m\u001b[0m\u001b[0m\n\u001b[0;32m     31\u001b[0m         \u001b[0mdriver\u001b[0m\u001b[1;33m.\u001b[0m\u001b[0mexecute_script\u001b[0m\u001b[1;33m(\u001b[0m\u001b[1;34m'window.scrollTo(0, document.body.scrollHeight);'\u001b[0m\u001b[1;33m)\u001b[0m\u001b[1;33m\u001b[0m\u001b[1;33m\u001b[0m\u001b[0m\n\u001b[1;32m---> 32\u001b[1;33m         \u001b[0msleep\u001b[0m\u001b[1;33m(\u001b[0m\u001b[1;36m2\u001b[0m\u001b[1;33m)\u001b[0m\u001b[1;33m\u001b[0m\u001b[1;33m\u001b[0m\u001b[0m\n\u001b[0m\u001b[0;32m     33\u001b[0m         \u001b[0mcurr_position\u001b[0m \u001b[1;33m=\u001b[0m \u001b[0mdriver\u001b[0m\u001b[1;33m.\u001b[0m\u001b[0mexecute_script\u001b[0m\u001b[1;33m(\u001b[0m\u001b[1;34m\"return window.pageYOffset;\"\u001b[0m\u001b[1;33m)\u001b[0m\u001b[1;33m\u001b[0m\u001b[1;33m\u001b[0m\u001b[0m\n\u001b[0;32m     34\u001b[0m         \u001b[1;32mif\u001b[0m \u001b[0mlast_position\u001b[0m \u001b[1;33m==\u001b[0m \u001b[0mcurr_position\u001b[0m\u001b[1;33m:\u001b[0m\u001b[1;33m\u001b[0m\u001b[1;33m\u001b[0m\u001b[0m\n",
      "\u001b[1;31mKeyboardInterrupt\u001b[0m: "
     ]
    }
   ],
   "source": [
    "#get all tweets on the page\n",
    "data=[]\n",
    "tweet_ids= set()\n",
    "last_position = driver.execute_script(\"return window.pageYOffset;\")\n",
    "scrolling = True\n",
    "\n",
    "while scrolling:\n",
    "    page_cards = driver.find_elements(\"xpath\",'//article[@data-testid=\"tweet\"]')\n",
    "    for card in page_cards[-30:]:\n",
    "        tweet = get_tweet_data(card)\n",
    "        if tweet:\n",
    "            tweet_id = ''.join(tweet)\n",
    "            if tweet_id not in tweet_ids:\n",
    "                tweet_ids.add(tweet_id)\n",
    "                data.append(tweet)\n",
    "\n",
    "\n",
    "#ENTER A SAVE FILE NAME FOR SAVING THE .csv FILE\n",
    "#RECOMMENDED TO USE NAME SAME AS TOPIC\n",
    "        with open('.csv', 'w', newline='', encoding='utf-8') as f:\n",
    "            header = ['Handle', 'Text']\n",
    "            writer = csv.writer(f)\n",
    "            writer.writerow(header)\n",
    "            writer.writerows(data)\n",
    "\n",
    "            \n",
    "    scroll_attempt = 0\n",
    "    while True:\n",
    "        # check scroll position\n",
    "        driver.execute_script('window.scrollTo(0, document.body.scrollHeight);')\n",
    "        sleep(2)\n",
    "        curr_position = driver.execute_script(\"return window.pageYOffset;\")\n",
    "        if last_position == curr_position:\n",
    "            scroll_attempt += 1\n",
    "            \n",
    "            # end of scroll region\n",
    "            if scroll_attempt >= 3:\n",
    "                scrolling = False\n",
    "                break\n",
    "            else:\n",
    "                sleep(2) # attempt another scroll\n",
    "        else:\n",
    "            last_position = curr_position\n",
    "            with open('#ENTER SAME NAME AS ABOVE SAVE.csv', 'w', newline='', encoding='utf-8') as f:\n",
    "                header = ['Handle', 'Text']\n",
    "                writer = csv.writer(f)\n",
    "                writer.writerow(header)\n",
    "                writer.writerows(data)\n",
    "            break\n",
    "                    \n",
    "driver.close()"
   ]
  },
  {
   "cell_type": "code",
   "execution_count": null,
   "id": "788bd28b-b7a7-4e14-b8bc-cad91adb45a2",
   "metadata": {},
   "outputs": [],
   "source": []
  }
 ],
 "metadata": {
  "kernelspec": {
   "display_name": "Python 3 (ipykernel)",
   "language": "python",
   "name": "python3"
  },
  "language_info": {
   "codemirror_mode": {
    "name": "ipython",
    "version": 3
   },
   "file_extension": ".py",
   "mimetype": "text/x-python",
   "name": "python",
   "nbconvert_exporter": "python",
   "pygments_lexer": "ipython3",
   "version": "3.9.13"
  }
 },
 "nbformat": 4,
 "nbformat_minor": 5
}
